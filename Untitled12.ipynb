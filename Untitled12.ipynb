{
  "nbformat": 4,
  "nbformat_minor": 0,
  "metadata": {
    "colab": {
      "provenance": [],
      "authorship_tag": "ABX9TyNpGthGdyAMejxAzenRu0Hw",
      "include_colab_link": true
    },
    "kernelspec": {
      "name": "python3",
      "display_name": "Python 3"
    },
    "language_info": {
      "name": "python"
    }
  },
  "cells": [
    {
      "cell_type": "markdown",
      "metadata": {
        "id": "view-in-github",
        "colab_type": "text"
      },
      "source": [
        "<a href=\"https://colab.research.google.com/github/jyj0607040607/Spring-boot24/blob/master/Untitled12.ipynb\" target=\"_parent\"><img src=\"https://colab.research.google.com/assets/colab-badge.svg\" alt=\"Open In Colab\"/></a>"
      ]
    },
    {
      "cell_type": "code",
      "execution_count": 2,
      "metadata": {
        "colab": {
          "base_uri": "https://localhost:8080/"
        },
        "id": "y57VoH9KIVR7",
        "outputId": "cf6626e4-1c09-4c68-9f64-17183eccc8cb"
      },
      "outputs": [
        {
          "output_type": "stream",
          "name": "stdout",
          "text": [
            "array1 type: <class 'numpy.ndarray'>\n",
            "array1 array 형태: (3,)\n"
          ]
        }
      ],
      "source": [
        "import numpy as np\n",
        "\n",
        "array1 = np.array([1, 2, 3])\n",
        "print('array1 type:', type(array1))\n",
        "print('array1 array 형태:', array1.shape)"
      ]
    },
    {
      "cell_type": "code",
      "source": [
        "array2 = np.array([[1, 2, 3], [2, 3, 4]])\n",
        "print('array2 type type:', array2.shape)\n",
        "print('array2 array 형태:', array2.shape)"
      ],
      "metadata": {
        "colab": {
          "base_uri": "https://localhost:8080/"
        },
        "id": "U1GkE_0DKzn_",
        "outputId": "4965bc7f-044a-4028-acae-4fbca5566273"
      },
      "execution_count": 3,
      "outputs": [
        {
          "output_type": "stream",
          "name": "stdout",
          "text": [
            "array2 type type: (2, 3)\n",
            "array2 array 형태: (2, 3)\n"
          ]
        }
      ]
    },
    {
      "cell_type": "code",
      "source": [],
      "metadata": {
        "id": "EgQc0aLvLvk-"
      },
      "execution_count": null,
      "outputs": []
    }
  ]
}